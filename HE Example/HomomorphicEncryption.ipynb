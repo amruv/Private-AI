{
  "nbformat": 4,
  "nbformat_minor": 0,
  "metadata": {
    "colab": {
      "provenance": [],
      "collapsed_sections": []
    },
    "kernelspec": {
      "name": "python3",
      "display_name": "Python 3"
    },
    "language_info": {
      "name": "python"
    }
  },
  "cells": [
    {
      "cell_type": "code",
      "source": [
        "pip install phe"
      ],
      "metadata": {
        "colab": {
          "base_uri": "https://localhost:8080/"
        },
        "id": "LRaoVpT27Ayz",
        "outputId": "5686ec12-0273-4513-e54b-7526c0fe2fc0"
      },
      "execution_count": null,
      "outputs": [
        {
          "output_type": "stream",
          "name": "stdout",
          "text": [
            "Looking in indexes: https://pypi.org/simple, https://us-python.pkg.dev/colab-wheels/public/simple/\n",
            "Requirement already satisfied: phe in /usr/local/lib/python3.7/dist-packages (1.5.0)\n"
          ]
        }
      ]
    },
    {
      "cell_type": "markdown",
      "source": [
        "linear regression model"
      ],
      "metadata": {
        "id": "WWO3dEl2An_A"
      }
    },
    {
      "cell_type": "code",
      "execution_count": null,
      "metadata": {
        "colab": {
          "base_uri": "https://localhost:8080/"
        },
        "id": "iOsb6Pv84AQl",
        "outputId": "96dfcf7a-d173-4647-f29a-2c44275c2e8c"
      },
      "outputs": [
        {
          "output_type": "stream",
          "name": "stdout",
          "text": [
            "[-3.97674029e-01  4.69364136e+02 -1.85674425e+02  1.72099476e+01]\n"
          ]
        }
      ],
      "source": [
        "import pandas as pd\n",
        "import numpy as np\n",
        "import phe as paillier\n",
        "from sklearn import preprocessing\n",
        "from sklearn.linear_model import LinearRegression\n",
        "from sklearn.model_selection import train_test_split\n",
        "from sklearn.metrics import mean_squared_error, r2_score\n",
        "\n",
        "class LinModel:\n",
        "\tdef __init__(self):\n",
        "\t\tpass\n",
        "\n",
        "\tdef getResults(self):\n",
        "\t\tdf=pd.read_csv('https://raw.githubusercontent.com/satssehgal/Homomorphic-Encryption/master/employee_data.csv')\n",
        "\t\ty=df.salary\n",
        "\t\tX=df.drop('salary',axis=1)\n",
        "\t\tX_train, X_test, y_train, y_test = train_test_split(X, y, test_size=0.2, random_state=0)\n",
        "\t\treg = LinearRegression().fit(X_train, y_train)\n",
        "\t\ty_pred=reg.predict(X_test)\n",
        "\t\tRMSE=pow(mean_squared_error(y_pred, y_test),0.5)\n",
        "\t\tR=r2_score(y_pred, y_test)\n",
        "\t\treturn reg, y_pred, RMSE, R\n",
        "\n",
        "\tdef getCoef(self):\n",
        "\t\treturn self.getResults()[0].coef_\n",
        "\n",
        "\n",
        "def main():\n",
        "\tcof=LinModel().getCoef()\n",
        "\tprint(cof)\n",
        "\n",
        "\n",
        "if __name__=='__main__':\n",
        "\tmain()\n",
        "\n",
        "\n",
        "\n",
        "\n"
      ]
    },
    {
      "cell_type": "markdown",
      "source": [
        "customer"
      ],
      "metadata": {
        "id": "GceBoy-0Ar1y"
      }
    },
    {
      "cell_type": "code",
      "source": [
        "import phe as paillier\n",
        "import json\n",
        "\n",
        "def storeKeys():\n",
        "\tpublic_key, private_key = paillier.generate_paillier_keypair()\n",
        "\tkeys={}\n",
        "\tkeys['public_key'] = {'n': public_key.n}\n",
        "\tkeys['private_key'] = {'p': private_key.p,'q':private_key.q}\n",
        "\twith open('custkeys.json', 'w') as file: \n",
        "\t\tjson.dump(keys, file)\n",
        "storeKeys()  \n",
        "\n",
        "def getKeys():\n",
        "\twith open('custkeys.json', 'r') as file: \n",
        "\t\tkeys=json.load(file)\n",
        "\t\tpub_key=paillier.PaillierPublicKey(n=int(keys['public_key']['n']))\n",
        "\t\tpriv_key=paillier.PaillierPrivateKey(pub_key,keys['private_key']['p'],keys['private_key']['q'])\n",
        "\t\treturn pub_key, priv_key \n",
        "\n",
        "def serializeData(public_key, data):\n",
        "\tencrypted_data_list = [public_key.encrypt(x) for x in data]\n",
        "\tencrypted_data={}\n",
        "\tencrypted_data['public_key'] = {'n': public_key.n}\n",
        "\tencrypted_data['values'] = [(str(x.ciphertext()), x.exponent) for x in encrypted_data_list]\n",
        "\tserialized = json.dumps(encrypted_data)\n",
        "\treturn serialized\n",
        "\n",
        "\n",
        "\n",
        "pub_key, priv_key = getKeys()\n",
        "data = age, he, al, gen = [36,5,5,1]\n",
        "serializeData(pub_key, data)\n",
        "datafile=serializeData(pub_key, data)\n",
        "with open('data.json', 'w') as file:\n",
        "    json.dump(datafile, file)\n",
        "\n",
        "\n",
        "\t\n"
      ],
      "metadata": {
        "id": "p0nx1yxl6_L_"
      },
      "execution_count": null,
      "outputs": []
    },
    {
      "cell_type": "markdown",
      "source": [
        "server"
      ],
      "metadata": {
        "id": "Xs0ZJq23AvPp"
      }
    },
    {
      "cell_type": "code",
      "source": [
        "import phe as paillier\n",
        "import json\n",
        "\n",
        "def getData():\n",
        "\twith open('data.json', 'r') as file: \n",
        "\t\td=json.load(file)\n",
        "\tdata=json.loads(d)\n",
        "\treturn data\n",
        "\n",
        "def computeData():\n",
        "\tdata=getData()\n",
        "\tmycoef=LinModel().getCoef()\n",
        "\tpk=data['public_key']\n",
        "\tpubkey= paillier.PaillierPublicKey(n=int(pk['n']))\n",
        "\tenc_nums_rec = [paillier.EncryptedNumber(pubkey, int(x[0], int(x[1]))) for x in data['values']]\n",
        "\tresults=sum([mycoef[i]*enc_nums_rec[i] for i in range(len(mycoef))])\n",
        "\treturn results, pubkey\n",
        "\n",
        "def serializeData():\n",
        "\tresults, pubkey = computeData()\n",
        "\tencrypted_data={}\n",
        "\tencrypted_data['pubkey'] = {'n': pubkey.n}\n",
        "\tencrypted_data['values'] = (str(results.ciphertext()), results.exponent)\n",
        "\tserialized = json.dumps(encrypted_data)\n",
        "\treturn serialized\n",
        "\n",
        "def main():\n",
        "\tdatafile=serializeData()\n",
        "\twith open('answer.json', 'w') as file:\n",
        "\t\tjson.dump(datafile, file)\n",
        "\n",
        "if __name__=='__main__':\n",
        "\tmain()"
      ],
      "metadata": {
        "id": "z9ygqlmY60Sa"
      },
      "execution_count": null,
      "outputs": []
    },
    {
      "cell_type": "markdown",
      "source": [
        "loading of answer in customer"
      ],
      "metadata": {
        "id": "U3Wz2ZpJAxpl"
      }
    },
    {
      "cell_type": "code",
      "source": [
        "def loadAnswer():\n",
        "    with open('answer.json', 'r') as file: \n",
        "      ans=json.load(file)\n",
        "      answer=json.loads(ans)\n",
        "      return answer\n",
        "\n",
        "answer_file=loadAnswer()\n",
        "answer_key=paillier.PaillierPublicKey(n=int(answer_file['pubkey']['n']))\n",
        "answer = paillier.EncryptedNumber(answer_key, int(answer_file['values'][0]), int(answer_file['values'][1]))\n",
        "if (answer_key==pub_key):\n",
        "    print(priv_key.decrypt(answer))"
      ],
      "metadata": {
        "colab": {
          "base_uri": "https://localhost:8080/"
        },
        "id": "epXNJNQZ_gw4",
        "outputId": "6ecc69d9-a1b2-4fe1-9634-031610e82f3a"
      },
      "execution_count": null,
      "outputs": [
        {
          "output_type": "stream",
          "name": "stdout",
          "text": [
            "1421.3422358949524\n"
          ]
        }
      ]
    },
    {
      "cell_type": "code",
      "source": [],
      "metadata": {
        "id": "ebKQ0H5pu_gl"
      },
      "execution_count": null,
      "outputs": []
    }
  ]
}